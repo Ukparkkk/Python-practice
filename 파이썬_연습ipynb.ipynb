{
  "nbformat": 4,
  "nbformat_minor": 0,
  "metadata": {
    "colab": {
      "name": "파이썬 연습ipynb",
      "provenance": []
    },
    "kernelspec": {
      "name": "python3",
      "display_name": "Python 3"
    },
    "language_info": {
      "name": "python"
    },
    "accelerator": "GPU"
  },
  "cells": [
    {
      "cell_type": "code",
      "metadata": {
        "id": "CvIsiZ1S4GOX",
        "colab": {
          "base_uri": "https://localhost:8080/",
          "height": 35
        },
        "outputId": "a8d64f3d-317e-4fed-d9f8-a2b90467ae05"
      },
      "source": [
        "food = 'Python\\'s favorite food is perl'\n",
        "food"
      ],
      "execution_count": 4,
      "outputs": [
        {
          "output_type": "execute_result",
          "data": {
            "application/vnd.google.colaboratory.intrinsic+json": {
              "type": "string"
            },
            "text/plain": [
              "\"Python's favorite food is perl\""
            ]
          },
          "metadata": {},
          "execution_count": 4
        }
      ]
    },
    {
      "cell_type": "code",
      "metadata": {
        "colab": {
          "base_uri": "https://localhost:8080/",
          "height": 35
        },
        "id": "8UxTGo2tXTm5",
        "outputId": "bf249d6d-0f10-4a5f-b29c-5fb5620328fb"
      },
      "source": [
        "say = \"\\\"Python is very easy.\\\"he says.\"\n",
        "say"
      ],
      "execution_count": 6,
      "outputs": [
        {
          "output_type": "execute_result",
          "data": {
            "application/vnd.google.colaboratory.intrinsic+json": {
              "type": "string"
            },
            "text/plain": [
              "'\"Python is very easy.\"he says.'"
            ]
          },
          "metadata": {},
          "execution_count": 6
        }
      ]
    },
    {
      "cell_type": "markdown",
      "metadata": {
        "id": "Dlw4lUmDZPZh"
      },
      "source": [
        "1. 줄을 바꾸는 이스케이프 코드 '\\n' 삽입하기"
      ]
    },
    {
      "cell_type": "code",
      "metadata": {
        "id": "sMYw0qqpZFUj"
      },
      "source": [
        "Mutiline = \"Life is too short\\n You need Python\""
      ],
      "execution_count": 11,
      "outputs": []
    },
    {
      "cell_type": "markdown",
      "metadata": {
        "id": "wKDDPOfLaAug"
      },
      "source": [
        "2. 연속된 작은따옴표 3개(''') or 큰따옴표 3개(\"\"\") 사용하기"
      ]
    },
    {
      "cell_type": "code",
      "metadata": {
        "id": "Cxfecv17aP32"
      },
      "source": [
        "Mutiline = '''\n",
        "Life is too short\n",
        "You need python\n",
        "'''"
      ],
      "execution_count": 2,
      "outputs": []
    },
    {
      "cell_type": "code",
      "metadata": {
        "id": "XQggVuNPazoc"
      },
      "source": [
        "Mutiline = \"\"\"\n",
        "Life is too short\n",
        "You need python\n",
        "\"\"\""
      ],
      "execution_count": 5,
      "outputs": []
    },
    {
      "cell_type": "code",
      "metadata": {
        "colab": {
          "base_uri": "https://localhost:8080/"
        },
        "id": "saHhf7uobAjQ",
        "outputId": "5b3eb0f1-92c1-4123-f491-155e444aede4"
      },
      "source": [
        "print(Mutiline)"
      ],
      "execution_count": 10,
      "outputs": [
        {
          "output_type": "stream",
          "name": "stdout",
          "text": [
            "\n",
            "Life is too short\n",
            "You need python\n",
            "\n"
          ]
        }
      ]
    },
    {
      "cell_type": "code",
      "metadata": {
        "id": "yeFqN8w3dF6m"
      },
      "source": [
        "Example = \"Life is too short\\t You need python\""
      ],
      "execution_count": 12,
      "outputs": []
    },
    {
      "cell_type": "code",
      "metadata": {
        "colab": {
          "base_uri": "https://localhost:8080/"
        },
        "id": "WuU19z3tdXHI",
        "outputId": "2c2a7370-c191-4e1b-f8c9-e0b51a4e10ca"
      },
      "source": [
        "print(Example)"
      ],
      "execution_count": 14,
      "outputs": [
        {
          "output_type": "stream",
          "name": "stdout",
          "text": [
            "Life is too short\t You need python\n"
          ]
        }
      ]
    },
    {
      "cell_type": "code",
      "metadata": {
        "id": "JO6FmVB2d3JX"
      },
      "source": [
        "Example1 = \"Life is too short\\\\ You need python\""
      ],
      "execution_count": 16,
      "outputs": []
    },
    {
      "cell_type": "code",
      "metadata": {
        "colab": {
          "base_uri": "https://localhost:8080/"
        },
        "id": "nhflvHtWd-Ac",
        "outputId": "af5ecbb8-7364-4324-a66d-ce84dfbf0df0"
      },
      "source": [
        "print(Example1)"
      ],
      "execution_count": 17,
      "outputs": [
        {
          "output_type": "stream",
          "name": "stdout",
          "text": [
            "Life is too short\\ You need python\n"
          ]
        }
      ]
    },
    {
      "cell_type": "code",
      "metadata": {
        "id": "iUiYACLzh9U3"
      },
      "source": [
        "Example2 = 'Life is too short\\r You need Python'"
      ],
      "execution_count": 19,
      "outputs": []
    },
    {
      "cell_type": "code",
      "metadata": {
        "colab": {
          "base_uri": "https://localhost:8080/"
        },
        "id": "IPHAfGWiiMf6",
        "outputId": "0565accd-f9d1-4e3e-98a7-2cf2b1e8c734"
      },
      "source": [
        "print(Example2)"
      ],
      "execution_count": 20,
      "outputs": [
        {
          "output_type": "stream",
          "name": "stdout",
          "text": [
            "Life is too short\r You need Python\n"
          ]
        }
      ]
    },
    {
      "cell_type": "code",
      "metadata": {
        "id": "eGNjIbqkiUyA"
      },
      "source": [
        "Example3 = 'Life is too short\\f You need Python'"
      ],
      "execution_count": 21,
      "outputs": []
    },
    {
      "cell_type": "code",
      "metadata": {
        "colab": {
          "base_uri": "https://localhost:8080/"
        },
        "id": "9h6jTq9wibqX",
        "outputId": "37d461d5-ede1-4f4c-81dc-0be69836444c"
      },
      "source": [
        "print(Example3)"
      ],
      "execution_count": 22,
      "outputs": [
        {
          "output_type": "stream",
          "name": "stdout",
          "text": [
            "Life is too short\f You need Python\n"
          ]
        }
      ]
    }
  ]
}